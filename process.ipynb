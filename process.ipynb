{
 "cells": [
  {
   "cell_type": "markdown",
   "id": "83eb9d11",
   "metadata": {},
   "source": [
    "Sample notebook for testing OGC packaging, deployment, and execution. All this notebook does is write an input string to a file."
   ]
  },
  {
   "cell_type": "code",
   "execution_count": 2,
   "id": "85f001fe",
   "metadata": {
    "tags": [
     "parameters"
    ]
   },
   "outputs": [],
   "source": [
    "input_1 = \"Hello World!\"\n"
   ]
  },
  {
   "cell_type": "code",
   "execution_count": 3,
   "id": "6dfb0bd8",
   "metadata": {},
   "outputs": [
    {
     "name": "stdout",
     "output_type": "stream",
     "text": [
      "Hello World!\n"
     ]
    }
   ],
   "source": [
    "with open('temp.txt', 'w') as f:\n",
    "    print(input_1)\n",
    "    f.write(input_1)\n",
    "    \n"
   ]
  },
  {
   "cell_type": "code",
   "execution_count": null,
   "id": "086e4029",
   "metadata": {},
   "outputs": [],
   "source": []
  }
 ],
 "metadata": {
  "kernelspec": {
   "display_name": "Python 3",
   "language": "python",
   "name": "python3"
  },
  "language_info": {
   "codemirror_mode": {
    "name": "ipython",
    "version": 3
   },
   "file_extension": ".py",
   "mimetype": "text/x-python",
   "name": "python",
   "nbconvert_exporter": "python",
   "pygments_lexer": "ipython3",
   "version": "3.9.1"
  },
  "toc-showcode": true,
  "toc-showtags": true
 },
 "nbformat": 4,
 "nbformat_minor": 5
}
